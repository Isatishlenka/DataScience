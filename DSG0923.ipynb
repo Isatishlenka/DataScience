{
 "cells": [
  {
   "cell_type": "code",
   "execution_count": 1,
   "id": "b47a0147",
   "metadata": {},
   "outputs": [
    {
     "name": "stdout",
     "output_type": "stream",
     "text": [
      "hello data science\n"
     ]
    }
   ],
   "source": [
    "print (\"hello data science\")"
   ]
  },
  {
   "cell_type": "code",
   "execution_count": null,
   "id": "26ae7ea3",
   "metadata": {},
   "outputs": [],
   "source": [
    "print (\"Data scientist Akhil\")"
   ]
  },
  {
   "cell_type": "code",
   "execution_count": 4,
   "id": "a3e51e7d",
   "metadata": {},
   "outputs": [
    {
     "name": "stdout",
     "output_type": "stream",
     "text": [
      "Data scientist Akhil\n"
     ]
    }
   ],
   "source": []
  },
  {
   "cell_type": "markdown",
   "id": "d1c1d69f",
   "metadata": {},
   "source": [
    "print (\"akhil\")"
   ]
  },
  {
   "cell_type": "markdown",
   "id": "69ddeb31",
   "metadata": {},
   "source": [
    "a=\"abc\"\n",
    "print(len(a))"
   ]
  },
  {
   "cell_type": "code",
   "execution_count": null,
   "id": "e953f80d",
   "metadata": {},
   "outputs": [],
   "source": []
  }
 ],
 "metadata": {
  "kernelspec": {
   "display_name": "Python 3 (ipykernel)",
   "language": "python",
   "name": "python3"
  },
  "language_info": {
   "codemirror_mode": {
    "name": "ipython",
    "version": 3
   },
   "file_extension": ".py",
   "mimetype": "text/x-python",
   "name": "python",
   "nbconvert_exporter": "python",
   "pygments_lexer": "ipython3",
   "version": "3.11.4"
  }
 },
 "nbformat": 4,
 "nbformat_minor": 5
}
